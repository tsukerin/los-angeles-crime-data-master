{
 "cells": [
  {
   "cell_type": "markdown",
   "id": "a6071f3b",
   "metadata": {},
   "source": [
    "<h2><b><i>5.1. Быстрый анализ данных</i></b></h2>"
   ]
  },
  {
   "cell_type": "markdown",
   "id": "83fc7076",
   "metadata": {},
   "source": [
    "<h4><b><i>Подключение библиотек</i></b></h4>"
   ]
  },
  {
   "cell_type": "code",
   "execution_count": 3,
   "id": "345ea2e3-d8a1-4d10-9ba9-2471b9baba7b",
   "metadata": {},
   "outputs": [],
   "source": [
    "import pandas as pd\n",
    "import numpy as np\n"
   ]
  },
  {
   "cell_type": "markdown",
   "id": "b78eeb51",
   "metadata": {},
   "source": [
    "<h4><b><i>Импортирование выборки</i></b></h4>"
   ]
  },
  {
   "cell_type": "code",
   "execution_count": 4,
   "id": "f88ba094-c0eb-42bb-a40d-a6a5940d58b4",
   "metadata": {},
   "outputs": [
    {
     "data": {
      "text/html": [
       "<div>\n",
       "<style scoped>\n",
       "    .dataframe tbody tr th:only-of-type {\n",
       "        vertical-align: middle;\n",
       "    }\n",
       "\n",
       "    .dataframe tbody tr th {\n",
       "        vertical-align: top;\n",
       "    }\n",
       "\n",
       "    .dataframe thead th {\n",
       "        text-align: right;\n",
       "    }\n",
       "</style>\n",
       "<table border=\"1\" class=\"dataframe\">\n",
       "  <thead>\n",
       "    <tr style=\"text-align: right;\">\n",
       "      <th></th>\n",
       "      <th>dr_number</th>\n",
       "      <th>date_reported</th>\n",
       "      <th>date_occurred</th>\n",
       "      <th>time_occurred</th>\n",
       "      <th>area_id</th>\n",
       "      <th>area_name</th>\n",
       "      <th>reporting_district</th>\n",
       "      <th>crime_code</th>\n",
       "      <th>crime_code_description</th>\n",
       "      <th>mo_codes</th>\n",
       "      <th>...</th>\n",
       "      <th>weapon_description</th>\n",
       "      <th>status_code</th>\n",
       "      <th>status_description</th>\n",
       "      <th>crime_code_1</th>\n",
       "      <th>crime_code_2</th>\n",
       "      <th>crime_code_3</th>\n",
       "      <th>crime_code_4</th>\n",
       "      <th>address</th>\n",
       "      <th>cross_street</th>\n",
       "      <th>location</th>\n",
       "    </tr>\n",
       "  </thead>\n",
       "  <tbody>\n",
       "    <tr>\n",
       "      <th>0</th>\n",
       "      <td>1208575</td>\n",
       "      <td>3/14/13</td>\n",
       "      <td>3/11/13</td>\n",
       "      <td>1800</td>\n",
       "      <td>12</td>\n",
       "      <td>77th Street</td>\n",
       "      <td>1241</td>\n",
       "      <td>626</td>\n",
       "      <td>INTIMATE PARTNER - SIMPLE ASSAULT</td>\n",
       "      <td>0416 0446 1243 2000</td>\n",
       "      <td>...</td>\n",
       "      <td>STRONG-ARM (HANDS, FIST, FEET OR BODILY FORCE)</td>\n",
       "      <td>AO</td>\n",
       "      <td>Adult Other</td>\n",
       "      <td>626</td>\n",
       "      <td>NaN</td>\n",
       "      <td>NaN</td>\n",
       "      <td>NaN</td>\n",
       "      <td>6300    BRYNHURST                    AV</td>\n",
       "      <td>NaN</td>\n",
       "      <td>(33.9829, -118.3338)</td>\n",
       "    </tr>\n",
       "    <tr>\n",
       "      <th>1</th>\n",
       "      <td>102005556</td>\n",
       "      <td>1/25/10</td>\n",
       "      <td>1/22/10</td>\n",
       "      <td>2300</td>\n",
       "      <td>20</td>\n",
       "      <td>Olympic</td>\n",
       "      <td>2071</td>\n",
       "      <td>510</td>\n",
       "      <td>VEHICLE - STOLEN</td>\n",
       "      <td>NaN</td>\n",
       "      <td>...</td>\n",
       "      <td>NaN</td>\n",
       "      <td>IC</td>\n",
       "      <td>Invest Cont</td>\n",
       "      <td>510</td>\n",
       "      <td>NaN</td>\n",
       "      <td>NaN</td>\n",
       "      <td>NaN</td>\n",
       "      <td>VAN NESS</td>\n",
       "      <td>15TH</td>\n",
       "      <td>(34.0454, -118.3157)</td>\n",
       "    </tr>\n",
       "    <tr>\n",
       "      <th>2</th>\n",
       "      <td>418</td>\n",
       "      <td>3/19/13</td>\n",
       "      <td>3/18/13</td>\n",
       "      <td>2030</td>\n",
       "      <td>18</td>\n",
       "      <td>Southeast</td>\n",
       "      <td>1823</td>\n",
       "      <td>510</td>\n",
       "      <td>VEHICLE - STOLEN</td>\n",
       "      <td>NaN</td>\n",
       "      <td>...</td>\n",
       "      <td>NaN</td>\n",
       "      <td>IC</td>\n",
       "      <td>Invest Cont</td>\n",
       "      <td>510</td>\n",
       "      <td>NaN</td>\n",
       "      <td>NaN</td>\n",
       "      <td>NaN</td>\n",
       "      <td>200 E  104TH                        ST</td>\n",
       "      <td>NaN</td>\n",
       "      <td>(33.942, -118.2717)</td>\n",
       "    </tr>\n",
       "    <tr>\n",
       "      <th>3</th>\n",
       "      <td>101822289</td>\n",
       "      <td>11/11/10</td>\n",
       "      <td>11/10/10</td>\n",
       "      <td>1800</td>\n",
       "      <td>18</td>\n",
       "      <td>Southeast</td>\n",
       "      <td>1803</td>\n",
       "      <td>510</td>\n",
       "      <td>VEHICLE - STOLEN</td>\n",
       "      <td>NaN</td>\n",
       "      <td>...</td>\n",
       "      <td>NaN</td>\n",
       "      <td>IC</td>\n",
       "      <td>Invest Cont</td>\n",
       "      <td>510</td>\n",
       "      <td>NaN</td>\n",
       "      <td>NaN</td>\n",
       "      <td>NaN</td>\n",
       "      <td>88TH</td>\n",
       "      <td>WALL</td>\n",
       "      <td>(33.9572, -118.2717)</td>\n",
       "    </tr>\n",
       "    <tr>\n",
       "      <th>4</th>\n",
       "      <td>42104479</td>\n",
       "      <td>1/11/14</td>\n",
       "      <td>1/4/14</td>\n",
       "      <td>2300</td>\n",
       "      <td>21</td>\n",
       "      <td>Topanga</td>\n",
       "      <td>2133</td>\n",
       "      <td>745</td>\n",
       "      <td>VANDALISM - MISDEAMEANOR ($399 OR UNDER)</td>\n",
       "      <td>329</td>\n",
       "      <td>...</td>\n",
       "      <td>NaN</td>\n",
       "      <td>IC</td>\n",
       "      <td>Invest Cont</td>\n",
       "      <td>745</td>\n",
       "      <td>NaN</td>\n",
       "      <td>NaN</td>\n",
       "      <td>NaN</td>\n",
       "      <td>7200    CIRRUS                       WY</td>\n",
       "      <td>NaN</td>\n",
       "      <td>(34.2009, -118.6369)</td>\n",
       "    </tr>\n",
       "    <tr>\n",
       "      <th>...</th>\n",
       "      <td>...</td>\n",
       "      <td>...</td>\n",
       "      <td>...</td>\n",
       "      <td>...</td>\n",
       "      <td>...</td>\n",
       "      <td>...</td>\n",
       "      <td>...</td>\n",
       "      <td>...</td>\n",
       "      <td>...</td>\n",
       "      <td>...</td>\n",
       "      <td>...</td>\n",
       "      <td>...</td>\n",
       "      <td>...</td>\n",
       "      <td>...</td>\n",
       "      <td>...</td>\n",
       "      <td>...</td>\n",
       "      <td>...</td>\n",
       "      <td>...</td>\n",
       "      <td>...</td>\n",
       "      <td>...</td>\n",
       "      <td>...</td>\n",
       "    </tr>\n",
       "    <tr>\n",
       "      <th>194</th>\n",
       "      <td>130100866</td>\n",
       "      <td>4/28/13</td>\n",
       "      <td>4/28/13</td>\n",
       "      <td>100</td>\n",
       "      <td>1</td>\n",
       "      <td>Central</td>\n",
       "      <td>153</td>\n",
       "      <td>888</td>\n",
       "      <td>TRESPASSING</td>\n",
       "      <td>NaN</td>\n",
       "      <td>...</td>\n",
       "      <td>NaN</td>\n",
       "      <td>IC</td>\n",
       "      <td>Invest Cont</td>\n",
       "      <td>888</td>\n",
       "      <td>NaN</td>\n",
       "      <td>NaN</td>\n",
       "      <td>NaN</td>\n",
       "      <td>500 S  BROADWAY</td>\n",
       "      <td>NaN</td>\n",
       "      <td>(34.0481, -118.2507)</td>\n",
       "    </tr>\n",
       "    <tr>\n",
       "      <th>195</th>\n",
       "      <td>130100872</td>\n",
       "      <td>5/4/13</td>\n",
       "      <td>5/4/13</td>\n",
       "      <td>1300</td>\n",
       "      <td>1</td>\n",
       "      <td>Central</td>\n",
       "      <td>162</td>\n",
       "      <td>341</td>\n",
       "      <td>THEFT-GRAND ($950.01 &amp; OVER)EXCPT,GUNS,FOWL,LI...</td>\n",
       "      <td>0104 0344 1300 0326</td>\n",
       "      <td>...</td>\n",
       "      <td>NaN</td>\n",
       "      <td>AA</td>\n",
       "      <td>Adult Arrest</td>\n",
       "      <td>341</td>\n",
       "      <td>NaN</td>\n",
       "      <td>NaN</td>\n",
       "      <td>NaN</td>\n",
       "      <td>400 W  7TH                          ST</td>\n",
       "      <td>NaN</td>\n",
       "      <td>(34.0459, -118.2545)</td>\n",
       "    </tr>\n",
       "    <tr>\n",
       "      <th>196</th>\n",
       "      <td>101220336</td>\n",
       "      <td>7/29/10</td>\n",
       "      <td>7/29/10</td>\n",
       "      <td>2000</td>\n",
       "      <td>12</td>\n",
       "      <td>77th Street</td>\n",
       "      <td>1259</td>\n",
       "      <td>510</td>\n",
       "      <td>VEHICLE - STOLEN</td>\n",
       "      <td>NaN</td>\n",
       "      <td>...</td>\n",
       "      <td>NaN</td>\n",
       "      <td>IC</td>\n",
       "      <td>Invest Cont</td>\n",
       "      <td>510</td>\n",
       "      <td>NaN</td>\n",
       "      <td>NaN</td>\n",
       "      <td>NaN</td>\n",
       "      <td>78TH</td>\n",
       "      <td>CENTRAL</td>\n",
       "      <td>(33.9685, -118.2564)</td>\n",
       "    </tr>\n",
       "    <tr>\n",
       "      <th>197</th>\n",
       "      <td>130100874</td>\n",
       "      <td>5/5/13</td>\n",
       "      <td>5/5/13</td>\n",
       "      <td>1015</td>\n",
       "      <td>1</td>\n",
       "      <td>Central</td>\n",
       "      <td>166</td>\n",
       "      <td>624</td>\n",
       "      <td>BATTERY - SIMPLE ASSAULT</td>\n",
       "      <td>0416 0603</td>\n",
       "      <td>...</td>\n",
       "      <td>MACE/PEPPER SPRAY</td>\n",
       "      <td>IC</td>\n",
       "      <td>Invest Cont</td>\n",
       "      <td>624</td>\n",
       "      <td>NaN</td>\n",
       "      <td>NaN</td>\n",
       "      <td>NaN</td>\n",
       "      <td>5TH                          ST</td>\n",
       "      <td>S  SAN JULIAN                   ST</td>\n",
       "      <td>(34.0446, -118.245)</td>\n",
       "    </tr>\n",
       "    <tr>\n",
       "      <th>198</th>\n",
       "      <td>130100875</td>\n",
       "      <td>5/8/13</td>\n",
       "      <td>5/8/13</td>\n",
       "      <td>1435</td>\n",
       "      <td>1</td>\n",
       "      <td>Central</td>\n",
       "      <td>166</td>\n",
       "      <td>210</td>\n",
       "      <td>ROBBERY</td>\n",
       "      <td>0305 0420 0345 0370 0416 0448 0429 1206 1027 1402</td>\n",
       "      <td>...</td>\n",
       "      <td>STRONG-ARM (HANDS, FIST, FEET OR BODILY FORCE)</td>\n",
       "      <td>AO</td>\n",
       "      <td>Adult Other</td>\n",
       "      <td>210</td>\n",
       "      <td>998.0</td>\n",
       "      <td>NaN</td>\n",
       "      <td>NaN</td>\n",
       "      <td>600    SAN JULIAN                   ST</td>\n",
       "      <td>NaN</td>\n",
       "      <td>(34.0428, -118.2461)</td>\n",
       "    </tr>\n",
       "  </tbody>\n",
       "</table>\n",
       "<p>199 rows × 26 columns</p>\n",
       "</div>"
      ],
      "text/plain": [
       "     dr_number date_reported date_occurred  time_occurred  area_id  \\\n",
       "0      1208575       3/14/13       3/11/13           1800       12   \n",
       "1    102005556       1/25/10       1/22/10           2300       20   \n",
       "2          418       3/19/13       3/18/13           2030       18   \n",
       "3    101822289      11/11/10      11/10/10           1800       18   \n",
       "4     42104479       1/11/14        1/4/14           2300       21   \n",
       "..         ...           ...           ...            ...      ...   \n",
       "194  130100866       4/28/13       4/28/13            100        1   \n",
       "195  130100872        5/4/13        5/4/13           1300        1   \n",
       "196  101220336       7/29/10       7/29/10           2000       12   \n",
       "197  130100874        5/5/13        5/5/13           1015        1   \n",
       "198  130100875        5/8/13        5/8/13           1435        1   \n",
       "\n",
       "       area_name  reporting_district  crime_code  \\\n",
       "0    77th Street                1241         626   \n",
       "1        Olympic                2071         510   \n",
       "2      Southeast                1823         510   \n",
       "3      Southeast                1803         510   \n",
       "4        Topanga                2133         745   \n",
       "..           ...                 ...         ...   \n",
       "194      Central                 153         888   \n",
       "195      Central                 162         341   \n",
       "196  77th Street                1259         510   \n",
       "197      Central                 166         624   \n",
       "198      Central                 166         210   \n",
       "\n",
       "                                crime_code_description  \\\n",
       "0                    INTIMATE PARTNER - SIMPLE ASSAULT   \n",
       "1                                     VEHICLE - STOLEN   \n",
       "2                                     VEHICLE - STOLEN   \n",
       "3                                     VEHICLE - STOLEN   \n",
       "4             VANDALISM - MISDEAMEANOR ($399 OR UNDER)   \n",
       "..                                                 ...   \n",
       "194                                        TRESPASSING   \n",
       "195  THEFT-GRAND ($950.01 & OVER)EXCPT,GUNS,FOWL,LI...   \n",
       "196                                   VEHICLE - STOLEN   \n",
       "197                           BATTERY - SIMPLE ASSAULT   \n",
       "198                                            ROBBERY   \n",
       "\n",
       "                                              mo_codes  ...  \\\n",
       "0                                  0416 0446 1243 2000  ...   \n",
       "1                                                  NaN  ...   \n",
       "2                                                  NaN  ...   \n",
       "3                                                  NaN  ...   \n",
       "4                                                  329  ...   \n",
       "..                                                 ...  ...   \n",
       "194                                                NaN  ...   \n",
       "195                                0104 0344 1300 0326  ...   \n",
       "196                                                NaN  ...   \n",
       "197                                          0416 0603  ...   \n",
       "198  0305 0420 0345 0370 0416 0448 0429 1206 1027 1402  ...   \n",
       "\n",
       "                                 weapon_description status_code  \\\n",
       "0    STRONG-ARM (HANDS, FIST, FEET OR BODILY FORCE)          AO   \n",
       "1                                               NaN          IC   \n",
       "2                                               NaN          IC   \n",
       "3                                               NaN          IC   \n",
       "4                                               NaN          IC   \n",
       "..                                              ...         ...   \n",
       "194                                             NaN          IC   \n",
       "195                                             NaN          AA   \n",
       "196                                             NaN          IC   \n",
       "197                               MACE/PEPPER SPRAY          IC   \n",
       "198  STRONG-ARM (HANDS, FIST, FEET OR BODILY FORCE)          AO   \n",
       "\n",
       "    status_description  crime_code_1 crime_code_2  crime_code_3 crime_code_4  \\\n",
       "0          Adult Other           626          NaN           NaN          NaN   \n",
       "1          Invest Cont           510          NaN           NaN          NaN   \n",
       "2          Invest Cont           510          NaN           NaN          NaN   \n",
       "3          Invest Cont           510          NaN           NaN          NaN   \n",
       "4          Invest Cont           745          NaN           NaN          NaN   \n",
       "..                 ...           ...          ...           ...          ...   \n",
       "194        Invest Cont           888          NaN           NaN          NaN   \n",
       "195       Adult Arrest           341          NaN           NaN          NaN   \n",
       "196        Invest Cont           510          NaN           NaN          NaN   \n",
       "197        Invest Cont           624          NaN           NaN          NaN   \n",
       "198        Adult Other           210        998.0           NaN          NaN   \n",
       "\n",
       "                                     address  \\\n",
       "0    6300    BRYNHURST                    AV   \n",
       "1                                   VAN NESS   \n",
       "2     200 E  104TH                        ST   \n",
       "3                                       88TH   \n",
       "4    7200    CIRRUS                       WY   \n",
       "..                                       ...   \n",
       "194                          500 S  BROADWAY   \n",
       "195   400 W  7TH                          ST   \n",
       "196                                     78TH   \n",
       "197          5TH                          ST   \n",
       "198   600    SAN JULIAN                   ST   \n",
       "\n",
       "                           cross_street             location   \n",
       "0                                   NaN  (33.9829, -118.3338)  \n",
       "1                                  15TH  (34.0454, -118.3157)  \n",
       "2                                   NaN   (33.942, -118.2717)  \n",
       "3                                  WALL  (33.9572, -118.2717)  \n",
       "4                                   NaN  (34.2009, -118.6369)  \n",
       "..                                  ...                   ...  \n",
       "194                                 NaN  (34.0481, -118.2507)  \n",
       "195                                 NaN  (34.0459, -118.2545)  \n",
       "196                             CENTRAL  (33.9685, -118.2564)  \n",
       "197  S  SAN JULIAN                   ST   (34.0446, -118.245)  \n",
       "198                                 NaN  (34.0428, -118.2461)  \n",
       "\n",
       "[199 rows x 26 columns]"
      ]
     },
     "execution_count": 4,
     "metadata": {},
     "output_type": "execute_result"
    }
   ],
   "source": [
    "df = pd.read_csv('la_crime_200_recs.csv')\n",
    "df"
   ]
  },
  {
   "cell_type": "markdown",
   "id": "36653c16",
   "metadata": {},
   "source": [
    "<h4><b><i>Количество строк и столбцов в таблице</i></b></h4>"
   ]
  },
  {
   "cell_type": "code",
   "execution_count": 5,
   "id": "400f6da0",
   "metadata": {},
   "outputs": [
    {
     "name": "stdout",
     "output_type": "stream",
     "text": [
      "Столбцы: 199, колонки: 26\n"
     ]
    }
   ],
   "source": [
    "rows = len(df.axes[0])\n",
    "cols = len(df.axes[1])\n",
    "print(f'Столбцы: {rows}, колонки: {cols}')"
   ]
  },
  {
   "cell_type": "markdown",
   "id": "df18cba8",
   "metadata": {},
   "source": [
    "<h4><b><i>Названия столбцов</i></b></h4>"
   ]
  },
  {
   "cell_type": "code",
   "execution_count": 6,
   "id": "5a0b4f35",
   "metadata": {},
   "outputs": [
    {
     "name": "stdout",
     "output_type": "stream",
     "text": [
      "1. dr_number\n",
      "2. date_reported\n",
      "3. date_occurred\n",
      "4. time_occurred\n",
      "5. area_id\n",
      "6. area_name\n",
      "7. reporting_district\n",
      "8. crime_code\n",
      "9. crime_code_description\n",
      "10. mo_codes\n",
      "11. victim_age\n",
      "12. victim_sex\n",
      "13. victim_descent\n",
      "14. premise_code\n",
      "15. premise_description\n",
      "16. weapon _used_code\n",
      "17. weapon_description\n",
      "18. status_code\n",
      "19. status_description\n",
      "20. crime_code_1\n",
      "21. crime_code_2\n",
      "22. crime_code_3\n",
      "23. crime_code_4\n",
      "24. address\n",
      "25. cross_street\n",
      "26. location \n"
     ]
    }
   ],
   "source": [
    "counter = 0\n",
    "for i in df.columns:\n",
    "    counter+=1\n",
    "    print(f'{counter}. {i}')"
   ]
  },
  {
   "cell_type": "markdown",
   "id": "2934327c",
   "metadata": {},
   "source": [
    "<h4><b><i>Типы данных столбцов</i></b></h4>"
   ]
  },
  {
   "cell_type": "code",
   "execution_count": 7,
   "id": "80ac082c",
   "metadata": {
    "tags": []
   },
   "outputs": [
    {
     "data": {
      "text/plain": [
       "dr_number                   int64\n",
       "date_reported              object\n",
       "date_occurred              object\n",
       "time_occurred               int64\n",
       "area_id                     int64\n",
       "area_name                  object\n",
       "reporting_district          int64\n",
       "crime_code                  int64\n",
       "crime_code_description     object\n",
       "mo_codes                   object\n",
       "victim_age                float64\n",
       "victim_sex                 object\n",
       "victim_descent             object\n",
       "premise_code                int64\n",
       "premise_description        object\n",
       "weapon _used_code         float64\n",
       "weapon_description         object\n",
       "status_code                object\n",
       "status_description         object\n",
       "crime_code_1                int64\n",
       "crime_code_2              float64\n",
       "crime_code_3              float64\n",
       "crime_code_4              float64\n",
       "address                    object\n",
       "cross_street               object\n",
       "location                   object\n",
       "dtype: object"
      ]
     },
     "execution_count": 7,
     "metadata": {},
     "output_type": "execute_result"
    }
   ],
   "source": [
    "df.dtypes"
   ]
  },
  {
   "cell_type": "markdown",
   "id": "7d2d6425",
   "metadata": {},
   "source": [
    "<h4><b><i>Количество уникальных значений в таблице</i></b></h4>"
   ]
  },
  {
   "cell_type": "code",
   "execution_count": 8,
   "id": "31cc15ed",
   "metadata": {},
   "outputs": [
    {
     "data": {
      "text/plain": [
       "1457"
      ]
     },
     "execution_count": 8,
     "metadata": {},
     "output_type": "execute_result"
    }
   ],
   "source": [
    "count = 0\n",
    "for i in df.columns:\n",
    "    count += len(df[i].unique())\n",
    "count"
   ]
  },
  {
   "cell_type": "markdown",
   "id": "a4dc8a3e",
   "metadata": {},
   "source": [
    "<h4><b><i>Количество пропущенных значений в таблице</i></b></h4>"
   ]
  },
  {
   "cell_type": "code",
   "execution_count": 9,
   "id": "449ac984",
   "metadata": {},
   "outputs": [
    {
     "data": {
      "text/plain": [
       "1187"
      ]
     },
     "execution_count": 9,
     "metadata": {},
     "output_type": "execute_result"
    }
   ],
   "source": [
    "df.isnull().sum().sum()\n",
    "    "
   ]
  },
  {
   "cell_type": "markdown",
   "id": "b205f606",
   "metadata": {},
   "source": [
    "<h4><b><i>Распределение числовых переменных трех столбцов</i></b></h4>"
   ]
  },
  {
   "cell_type": "code",
   "execution_count": 10,
   "id": "4b4a636c",
   "metadata": {},
   "outputs": [
    {
     "data": {
      "text/plain": [
       "array([[<Axes: title={'center': 'premise_code'}>]], dtype=object)"
      ]
     },
     "execution_count": 10,
     "metadata": {},
     "output_type": "execute_result"
    },
    {
     "data": {
      "image/png": "[encoded data removed]",
      "text/plain": [
       "<Figure size 640x480 with 1 Axes>"
      ]
     },
     "metadata": {},
     "output_type": "display_data"
    },
    {
     "data": {
      "image/png": "[encoded data removed]",
      "text/plain": [
       "<Figure size 640x480 with 1 Axes>"
      ]
     },
     "metadata": {},
     "output_type": "display_data"
    },
    {
     "data": {
      "image/png": "[encoded data removed]",
      "text/plain": [
       "<Figure size 640x480 with 1 Axes>"
      ]
     },
     "metadata": {},
     "output_type": "display_data"
    }
   ],
   "source": [
    "df.hist('dr_number')\n",
    "df.hist('area_id')\n",
    "df.hist('premise_code')"
   ]
  },
  {
   "cell_type": "markdown",
   "id": "a4f39008",
   "metadata": {},
   "source": [
    "<h4><b><i>5.2. Жертвы</i></b></h4>"
   ]
  },
  {
   "cell_type": "code",
   "execution_count": 11,
   "id": "b519744b",
   "metadata": {},
   "outputs": [
    {
     "name": "stdout",
     "output_type": "stream",
     "text": [
      "Женщин: 54, мужчин: 82. Предположение неверно.\n"
     ]
    }
   ],
   "source": [
    "male = 0\n",
    "female = 0\n",
    "\n",
    "for i in df['victim_sex']:\n",
    "    if(i == 'M'):\n",
    "        male += 1\n",
    "    elif(i == 'F'):\n",
    "        female += 1\n",
    "\n",
    "print(f'Женщин: {female}, мужчин: {male}. Предположение неверно.')\n"
   ]
  },
  {
   "cell_type": "markdown",
   "id": "a9c7bb48",
   "metadata": {},
   "source": [
    "<h4><b><i>5.3. Преступления, пол и возраст</i></b></h4>"
   ]
  },
  {
   "cell_type": "markdown",
   "id": "1b17e051",
   "metadata": {},
   "source": [
    "<p><b><i>• Как различается вероятность женщин и мужчин стать жертвой в зависимости от воз‑\n",
    "раста? Постройте визуализацию. В каком возрастном промежутке мужчины чаще ста‑\n",
    "новятся жетрвами преступлений?</p></b></i>"
   ]
  },
  {
   "cell_type": "code",
   "execution_count": 12,
   "id": "e426d075",
   "metadata": {},
   "outputs": [],
   "source": [
    "import matplotlib.pyplot as plt\n",
    "\n",
    "male = df[df['victim_sex'] == 'M']\n",
    "female = df[df['victim_sex'] == 'F']"
   ]
  },
  {
   "cell_type": "code",
   "execution_count": 13,
   "metadata": {},
   "outputs": [
    {
     "data": {
      "image/png": "[encoded data removed]",
      "text/plain": [
       "<Figure size 640x480 with 1 Axes>"
      ]
     },
     "metadata": {},
     "output_type": "display_data"
    }
   ],
   "source": [
    "plt.hist(male['victim_age'], color='b', alpha=0.6, label='Мужчины')\n",
    "plt.hist(female['victim_age'], color='r', alpha=0.6, label='Женщины')\n",
    "plt.legend()\n",
    "plt.show()"
   ]
  },
  {
   "cell_type": "markdown",
   "id": "0dd92711",
   "metadata": {},
   "source": [
    "<p>Мужчины чаще всего становятся жертвами в возрасте ~20 лет</p>"
   ]
  },
  {
   "cell_type": "code",
   "execution_count": 31,
   "id": "579c3ae9",
   "metadata": {},
   "outputs": [
    {
     "name": "stdout",
     "output_type": "stream",
     "text": [
      "0      626\n",
      "1      510\n",
      "2      510\n",
      "3      510\n",
      "4      745\n",
      "      ... \n",
      "194    888\n",
      "195    341\n",
      "196    510\n",
      "197    624\n",
      "198    210\n",
      "Name: crime_code, Length: 199, dtype: int64\n"
     ]
    }
   ],
   "source": [
    "print(df['crime_code'])"
   ]
  },
  {
   "cell_type": "markdown",
   "id": "494c6209",
   "metadata": {},
   "source": [
    "<p><b><i>• От каких преступлений чаще старадют женщины, а от каких мужчины?</p></b></i>"
   ]
  },
  {
   "cell_type": "code",
   "execution_count": 36,
   "metadata": {},
   "outputs": [
    {
     "data": {
      "image/png": "[encoded data removed]",
      "text/plain": [
       "<Figure size 1600x600 with 1 Axes>"
      ]
     },
     "metadata": {},
     "output_type": "display_data"
    }
   ],
   "source": [
    "plt.figure(figsize=(16, 6))\n",
    "plt.hist(male['crime_code'], color='b', alpha=0.6, label='Мужчины', bins=150)\n",
    "plt.hist(female['crime_code'], color='r', alpha=0.3, label='Женщины', bins= 150)\n",
    "plt.xticks(rotation=90)\n",
    "plt.xlim(min(df['crime_code']), max(df['crime_code']))\n",
    "plt.xticks(df['crime_code'], fontsize=15)\n",
    "plt.legend()\n",
    "plt.show()"
   ]
  },
  {
   "cell_type": "markdown",
   "id": "032ec919",
   "metadata": {},
   "source": [
    "Как можно заметить, жертвами преступлений с кодом 624 и 626 становятся в большинстве как женщины, так и мужчины "
   ]
  },
  {
   "cell_type": "markdown",
   "id": "061ead09",
   "metadata": {},
   "source": [
    "<h4><b><i>5.4. Происхождение</i></b></h4>"
   ]
  },
  {
   "cell_type": "code",
   "execution_count": 44,
   "id": "31e31896",
   "metadata": {},
   "outputs": [
    {
     "data": {
      "text/plain": [
       "H    62\n",
       "Name: victim_descent, dtype: int64"
      ]
     },
     "execution_count": 44,
     "metadata": {},
     "output_type": "execute_result"
    }
   ],
   "source": [
    "df.victim_descent.value_counts().head(1)\n"
   ]
  },
  {
   "cell_type": "markdown",
   "id": "628e536c",
   "metadata": {},
   "source": [
    "Люди происхождения Hispanic/Latin/Mexican чаще всего подвергаются преступлениям"
   ]
  },
  {
   "cell_type": "markdown",
   "id": "4e70b744",
   "metadata": {},
   "source": [
    "<h4><b><i>5.5. Место происшествия</i></b></h4>"
   ]
  },
  {
   "cell_type": "code",
   "execution_count": 72,
   "id": "d4631b52",
   "metadata": {},
   "outputs": [
    {
     "data": {
      "image/png": "[encoded data removed]",
      "text/plain": [
       "<Figure size 1600x600 with 1 Axes>"
      ]
     },
     "metadata": {},
     "output_type": "display_data"
    }
   ],
   "source": [
    "victim_people = df.groupby('victim_descent')['area_name'].count()\n",
    "labels = [f\"{desc} ({area})\" for desc, area in zip(victim_people.index, df['area_name'].values)]\n",
    "\n",
    "plt.figure(figsize=(16, 6))\n",
    "plt.pie(victim_people, labels=labels, autopct='%1.1f%%', wedgeprops={'lw':1, 'ls':'--','edgecolor':\"k\"}, textprops={'fontsize': 7})\n",
    "plt.show()"
   ]
  },
  {
   "cell_type": "markdown",
   "id": "875326de",
   "metadata": {},
   "source": [
    "По данным с графика, можно сделать вывод, что чаще всего подвергаются преступлениям люди происхождения Hispanic/Latin/Mexican в районе Southeast"
   ]
  }
 ],
 "metadata": {
  "kernelspec": {
   "display_name": "Python 3 (ipykernel)",
   "language": "python",
   "name": "python3"
  },
  "language_info": {
   "codemirror_mode": {
    "name": "ipython",
    "version": 3
   },
   "file_extension": ".py",
   "mimetype": "text/x-python",
   "name": "python",
   "nbconvert_exporter": "python",
   "pygments_lexer": "ipython3",
   "version": "3.10.11"
  }
 },
 "nbformat": 4,
 "nbformat_minor": 5
}
